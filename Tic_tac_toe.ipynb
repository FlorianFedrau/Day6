{
 "cells": [
  {
   "cell_type": "code",
   "execution_count": 2,
   "metadata": {},
   "outputs": [],
   "source": [
    "class TicTacToe():\n",
    "    def __init__(self):\n",
    "        self.board = [[(0, 0), (1, 0), (2, 0)], [(0, 1), (1, 1), (2, 1)], [(0, 2), (1, 2), (2, 2)]]\n",
    "        self.winner = 0\n",
    "        self.players_turn = 0\n",
    "        self.players = (' X ', ' O ')\n",
    "        \n",
    "    def print_board(self):\n",
    "        for i in range(3):\n",
    "            print(self.board[i])\n",
    "            \n",
    "    def check_for_winner(self):\n",
    "        player = self.players[self.players_turn]\n",
    "        for i in range(3):\n",
    "            if all([j == player for j in self.board[i]]):\n",
    "                self.winner = player\n",
    "                return True\n",
    "        for i in range(3):\n",
    "            if all([self.board[j][i] == player for j in range(3)]):\n",
    "                self.winner = player\n",
    "                return True\n",
    "        if all([self.board[i][i] == player for i in range(3)]):\n",
    "            self.winner = player\n",
    "            return True\n",
    "        elif (self.board[2][0] == player and self.board[1][1] == player and self.board[0][2] == player):\n",
    "            self.winner = player\n",
    "            return True\n",
    "        else:\n",
    "            return False\n",
    "        \n",
    "    def check_for_valid_input(self, inp):\n",
    "        if inp.find(', ') == -1:\n",
    "            return False\n",
    "        cord = inp.split(', ')\n",
    "        if (cord[0].isdigit() == False) or (cord[1].isdigit() == False):\n",
    "            return False\n",
    "        if (int(cord[0])) not in [0, 1, 2]:\n",
    "            return False\n",
    "        if (int(cord[1])) not in [0, 1, 2]:\n",
    "            return False\n",
    "        if(self.board[int(cord[1])][int(cord[0])] != ' X ' and  self.board[int(cord[1])][int(cord[0])] != ' O '):\n",
    "            if (self.players_turn == 0):\n",
    "                self.board[int(cord[1])][int(cord[0])] = ' X '\n",
    "            else:\n",
    "                self.board[int(cord[1])][int(cord[0])] = ' O '\n",
    "            return True\n",
    "        else:\n",
    "            return False\n",
    "    \n",
    "    def start_game(self):\n",
    "        for i in range(9):\n",
    "            self.print_board()\n",
    "            while(self.check_for_valid_input(input()) == False):\n",
    "                print('Enter a vaild input in the form x, y!')\n",
    "            if(self.check_for_winner() == True):\n",
    "                print('The winner is: ' + self.winner)\n",
    "                break\n",
    "            if(self.players_turn == 0):\n",
    "                self.players_turn = 1\n",
    "            else:\n",
    "                self.players_turn = 0\n",
    "        if(winner == 0):\n",
    "            print('It is a tie')\n",
    "            "
   ]
  },
  {
   "cell_type": "code",
   "execution_count": null,
   "metadata": {},
   "outputs": [
    {
     "name": "stdout",
     "output_type": "stream",
     "text": [
      "[(0, 0), (1, 0), (2, 0)]\n",
      "[(0, 1), (1, 1), (2, 1)]\n",
      "[(0, 2), (1, 2), (2, 2)]\n",
      "0, 0\n",
      "[' X ', (1, 0), (2, 0)]\n",
      "[(0, 1), (1, 1), (2, 1)]\n",
      "[(0, 2), (1, 2), (2, 2)]\n"
     ]
    }
   ],
   "source": [
    "ttt = TicTacToe()\n",
    "ttt.start_game()\n"
   ]
  },
  {
   "cell_type": "code",
   "execution_count": null,
   "metadata": {},
   "outputs": [],
   "source": []
  }
 ],
 "metadata": {
  "kernelspec": {
   "display_name": "Python [conda env:nf] *",
   "language": "python",
   "name": "conda-env-nf-py"
  },
  "language_info": {
   "codemirror_mode": {
    "name": "ipython",
    "version": 3
   },
   "file_extension": ".py",
   "mimetype": "text/x-python",
   "name": "python",
   "nbconvert_exporter": "python",
   "pygments_lexer": "ipython3",
   "version": "3.6.6"
  }
 },
 "nbformat": 4,
 "nbformat_minor": 2
}
