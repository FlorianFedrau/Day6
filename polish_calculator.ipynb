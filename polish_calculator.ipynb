{
 "cells": [
  {
   "cell_type": "code",
   "execution_count": null,
   "metadata": {
    "scrolled": true
   },
   "outputs": [
    {
     "name": "stdout",
     "output_type": "stream",
     "text": [
      "Insert number or operator: 77\n",
      "[77.0]\n",
      "Insert number or operator: jhjkh\n",
      "[77.0]\n",
      "Insert number or operator: hjgh\n",
      "[77.0]\n",
      "Insert number or operator: 9\n",
      "[77.0, 9.0]\n"
     ]
    }
   ],
   "source": [
    "import operator\n",
    "\n",
    "def is_float(x):\n",
    "    try:\n",
    "        float(x)\n",
    "        return True\n",
    "    except:\n",
    "        return False\n",
    "\n",
    "ops = { \"+\": operator.add, \"-\": operator.sub, '*' : operator.mul, '/' : operator.truediv, '**' : operator.pow}\n",
    "\n",
    "stack = []\n",
    "operators = ['+', '-', '*', '/', '**', '=']\n",
    "\n",
    "result = False\n",
    "\n",
    "while result == False:\n",
    "    inp = input('Insert number or operator: ')\n",
    "    if (is_float(inp) or inp in operators):\n",
    "        if(inp == '='):\n",
    "            if(len(stack) == 1):\n",
    "                result = True\n",
    "            else:\n",
    "                print('operation can not be done')\n",
    "        elif is_float(inp):\n",
    "            stack.append(float(inp))\n",
    "        elif(len(stack) > 1):\n",
    "            stack[-2] = ops[inp](stack[-2],stack[-1])\n",
    "            stack.pop()\n",
    "        else:\n",
    "            print('Not enough elements in stack')\n",
    "    print(stack)\n",
    "\n",
    "print('The result is: ' + str(stack[0]))"
   ]
  }
 ],
 "metadata": {
  "kernelspec": {
   "display_name": "Python [conda env:nf] *",
   "language": "python",
   "name": "conda-env-nf-py"
  },
  "language_info": {
   "codemirror_mode": {
    "name": "ipython",
    "version": 3
   },
   "file_extension": ".py",
   "mimetype": "text/x-python",
   "name": "python",
   "nbconvert_exporter": "python",
   "pygments_lexer": "ipython3",
   "version": "3.6.6"
  }
 },
 "nbformat": 4,
 "nbformat_minor": 2
}
